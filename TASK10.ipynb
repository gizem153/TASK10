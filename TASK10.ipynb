{
  "nbformat": 4,
  "nbformat_minor": 0,
  "metadata": {
    "colab": {
      "provenance": []
    },
    "kernelspec": {
      "name": "python3",
      "display_name": "Python 3"
    },
    "language_info": {
      "name": "python"
    }
  },
  "cells": [
    {
      "cell_type": "markdown",
      "source": [
        "TASK-10A: Please model the AD dataset using the SVM, Decision Tree, and Random Forest algorithms.\n",
        "\n",
        "Please apply train test split (%75-%25) Then grid search (hyperparameter tuning) Then classification report and confusion matrix (on the test dataset) Then compare the findings from the three algorithms"
      ],
      "metadata": {
        "id": "xACFGoIMJlBX"
      }
    },
    {
      "cell_type": "code",
      "source": [
        "import numpy as np\n",
        "from sklearn.model_selection import train_test_split\n",
        "import pandas as pd\n",
        "data = pd.read_excel(\"Temporary_data3_Left_Right_Copy.xlsx\", index_col=0)"
      ],
      "metadata": {
        "id": "Bpd5_Qw_LuxC"
      },
      "execution_count": 12,
      "outputs": []
    },
    {
      "cell_type": "code",
      "source": [
        "\n",
        "y = data[\"CDRGLOB\"]\n",
        "data.drop(columns = [\"CDRGLOB\"], axis = 1, inplace = True)"
      ],
      "metadata": {
        "id": "qBZKj5X-MMDE"
      },
      "execution_count": 13,
      "outputs": []
    },
    {
      "cell_type": "code",
      "source": [
        "X_train, X_test, y_train, y_test = train_test_split(data, y, test_size=0.25, random_state=42)"
      ],
      "metadata": {
        "id": "-bp1G7fyMPkr"
      },
      "execution_count": 14,
      "outputs": []
    },
    {
      "cell_type": "code",
      "source": [
        "\n",
        "from sklearn.svm import SVC\n",
        "from sklearn.metrics import classification_report, confusion_matrix\n",
        "from sklearn.model_selection import GridSearchCV"
      ],
      "metadata": {
        "id": "arHWjCR5MQS5"
      },
      "execution_count": 15,
      "outputs": []
    },
    {
      "cell_type": "code",
      "source": [
        "\n",
        "import warnings\n",
        "warnings.filterwarnings(\"ignore\")"
      ],
      "metadata": {
        "id": "fXqEHXBSMSRV"
      },
      "execution_count": 16,
      "outputs": []
    },
    {
      "cell_type": "code",
      "source": [
        "\n",
        "param_grid = {'C': [0.1, 1, 10, 100],\n",
        "              'gamma': [1, 0.1, 0.01, 0.001],\n",
        "              'kernel': [\"rbf\"]}\n",
        "\n",
        "grid = GridSearchCV(SVC(), param_grid, refit=True)\n",
        "grid.fit(X_train, y_train)\n",
        "grid.best_params_\n",
        "\n",
        "\n",
        "grid_pred = grid.predict(X_test)\n",
        "print(confusion_matrix(y_test, grid_pred))\n",
        "print(classification_report(y_test, grid_pred))"
      ],
      "metadata": {
        "colab": {
          "base_uri": "https://localhost:8080/"
        },
        "id": "pnIkN618MWBu",
        "outputId": "478dd6d2-8d07-4ae6-e5e9-f40724db9b46"
      },
      "execution_count": 17,
      "outputs": [
        {
          "output_type": "stream",
          "name": "stdout",
          "text": [
            "[[133  50   1   0]\n",
            " [ 72  36   0   0]\n",
            " [ 28  11   0   0]\n",
            " [  7   1   0   0]]\n",
            "              precision    recall  f1-score   support\n",
            "\n",
            "           0       0.55      0.72      0.63       184\n",
            "           1       0.37      0.33      0.35       108\n",
            "           2       0.00      0.00      0.00        39\n",
            "           3       0.00      0.00      0.00         8\n",
            "\n",
            "    accuracy                           0.50       339\n",
            "   macro avg       0.23      0.26      0.24       339\n",
            "weighted avg       0.42      0.50      0.45       339\n",
            "\n"
          ]
        }
      ]
    },
    {
      "cell_type": "code",
      "source": [
        "from sklearn.tree import DecisionTreeClassifier\n",
        "     "
      ],
      "metadata": {
        "id": "B26tv73LMZZC"
      },
      "execution_count": 18,
      "outputs": []
    },
    {
      "cell_type": "code",
      "source": [
        "params_grid =  {\n",
        "    'min_samples_leaf': [1, 2, 3],\n",
        "    'max_depth': [1, 2, 3],\n",
        "    \"min_samples_split\":[1,2,3],\n",
        "    \"max_features\": [\"auto\", \"sqrt\", \"log2\"]\n",
        "}\n",
        "\n",
        "grid = GridSearchCV(DecisionTreeClassifier(), params_grid, refit=True)\n",
        "grid.fit(X_train, y_train)\n",
        "\n",
        "grid.best_params_\n",
        "grid_pred = grid.predict(X_test)\n",
        "print(confusion_matrix(y_test, grid_pred))\n",
        "print(classification_report(y_test, grid_pred))"
      ],
      "metadata": {
        "colab": {
          "base_uri": "https://localhost:8080/"
        },
        "id": "tqkJPbpBMaGv",
        "outputId": "63016ca1-597f-43f6-9928-feab9ca8b6f6"
      },
      "execution_count": 19,
      "outputs": [
        {
          "output_type": "stream",
          "name": "stdout",
          "text": [
            "[[150  34   0   0]\n",
            " [ 60  46   2   0]\n",
            " [  6  22  11   0]\n",
            " [  2   4   2   0]]\n",
            "              precision    recall  f1-score   support\n",
            "\n",
            "           0       0.69      0.82      0.75       184\n",
            "           1       0.43      0.43      0.43       108\n",
            "           2       0.73      0.28      0.41        39\n",
            "           3       0.00      0.00      0.00         8\n",
            "\n",
            "    accuracy                           0.61       339\n",
            "   macro avg       0.46      0.38      0.40       339\n",
            "weighted avg       0.60      0.61      0.59       339\n",
            "\n"
          ]
        }
      ]
    },
    {
      "cell_type": "code",
      "source": [
        "from sklearn.ensemble import RandomForestClassifier\n"
      ],
      "metadata": {
        "id": "Ewc3NlCRMdAJ"
      },
      "execution_count": 20,
      "outputs": []
    },
    {
      "cell_type": "code",
      "source": [
        "param_grid = [{\n",
        "    'min_samples_split':[2, 3, 4],\n",
        "    'min_samples_leaf':[2, 3, 4],\n",
        "    \"max_depth\": [10, 20, 30],\n",
        "    'max_features': ['auto'],\n",
        "}]\n",
        "\n",
        "grid = GridSearchCV(RandomForestClassifier(), param_grid, refit=True)\n",
        "grid.fit(X_train, y_train)\n",
        "grid.best_params_\n",
        "grid_pred = grid.predict(X_test)\n",
        "print(confusion_matrix(y_test, grid_pred))\n",
        "print(classification_report(y_test, grid_pred))"
      ],
      "metadata": {
        "id": "e7rYBErAMfJP"
      },
      "execution_count": null,
      "outputs": []
    }
  ]
}